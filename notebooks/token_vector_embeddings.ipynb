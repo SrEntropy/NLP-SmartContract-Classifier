{
  "nbformat": 4,
  "nbformat_minor": 0,
  "metadata": {
    "colab": {
      "provenance": []
    },
    "kernelspec": {
      "name": "python3",
      "display_name": "Python 3"
    },
    "language_info": {
      "name": "python"
    }
  },
  "cells": [
    {
      "cell_type": "markdown",
      "source": [
        "##Hugging Face Transformers for AutoTokenizer and CodeBERT"
      ],
      "metadata": {
        "id": "T1RMn66zIQ6w"
      }
    },
    {
      "cell_type": "code",
      "source": [
        "!pip install transformers"
      ],
      "metadata": {
        "colab": {
          "base_uri": "https://localhost:8080/"
        },
        "id": "7bTS2M8BIOMx",
        "outputId": "117ea438-617b-45a0-c2ae-e4075e148f54"
      },
      "execution_count": null,
      "outputs": [
        {
          "output_type": "stream",
          "name": "stdout",
          "text": [
            "Requirement already satisfied: transformers in /usr/local/lib/python3.12/dist-packages (4.56.0)\n",
            "Requirement already satisfied: filelock in /usr/local/lib/python3.12/dist-packages (from transformers) (3.19.1)\n",
            "Requirement already satisfied: huggingface-hub<1.0,>=0.34.0 in /usr/local/lib/python3.12/dist-packages (from transformers) (0.34.4)\n",
            "Requirement already satisfied: numpy>=1.17 in /usr/local/lib/python3.12/dist-packages (from transformers) (2.0.2)\n",
            "Requirement already satisfied: packaging>=20.0 in /usr/local/lib/python3.12/dist-packages (from transformers) (25.0)\n",
            "Requirement already satisfied: pyyaml>=5.1 in /usr/local/lib/python3.12/dist-packages (from transformers) (6.0.2)\n",
            "Requirement already satisfied: regex!=2019.12.17 in /usr/local/lib/python3.12/dist-packages (from transformers) (2024.11.6)\n",
            "Requirement already satisfied: requests in /usr/local/lib/python3.12/dist-packages (from transformers) (2.32.4)\n",
            "Requirement already satisfied: tokenizers<=0.23.0,>=0.22.0 in /usr/local/lib/python3.12/dist-packages (from transformers) (0.22.0)\n",
            "Requirement already satisfied: safetensors>=0.4.3 in /usr/local/lib/python3.12/dist-packages (from transformers) (0.6.2)\n",
            "Requirement already satisfied: tqdm>=4.27 in /usr/local/lib/python3.12/dist-packages (from transformers) (4.67.1)\n",
            "Requirement already satisfied: fsspec>=2023.5.0 in /usr/local/lib/python3.12/dist-packages (from huggingface-hub<1.0,>=0.34.0->transformers) (2025.3.0)\n",
            "Requirement already satisfied: typing-extensions>=3.7.4.3 in /usr/local/lib/python3.12/dist-packages (from huggingface-hub<1.0,>=0.34.0->transformers) (4.15.0)\n",
            "Requirement already satisfied: hf-xet<2.0.0,>=1.1.3 in /usr/local/lib/python3.12/dist-packages (from huggingface-hub<1.0,>=0.34.0->transformers) (1.1.9)\n",
            "Requirement already satisfied: charset_normalizer<4,>=2 in /usr/local/lib/python3.12/dist-packages (from requests->transformers) (3.4.3)\n",
            "Requirement already satisfied: idna<4,>=2.5 in /usr/local/lib/python3.12/dist-packages (from requests->transformers) (3.10)\n",
            "Requirement already satisfied: urllib3<3,>=1.21.1 in /usr/local/lib/python3.12/dist-packages (from requests->transformers) (2.5.0)\n",
            "Requirement already satisfied: certifi>=2017.4.17 in /usr/local/lib/python3.12/dist-packages (from requests->transformers) (2025.8.3)\n"
          ]
        }
      ]
    },
    {
      "cell_type": "markdown",
      "source": [
        "##Tree-sitter for Syntax-aware Tokenization"
      ],
      "metadata": {
        "id": "qChuUyWlIiG3"
      }
    },
    {
      "cell_type": "code",
      "source": [
        "!pip install tree-sitter-language-pack"
      ],
      "metadata": {
        "colab": {
          "base_uri": "https://localhost:8080/"
        },
        "id": "OYW8WSY4CmwP",
        "outputId": "185f4ee4-fa40-4edd-b471-55005ecd3efb"
      },
      "execution_count": 5,
      "outputs": [
        {
          "output_type": "stream",
          "name": "stdout",
          "text": [
            "Collecting tree-sitter-language-pack\n",
            "  Downloading tree_sitter_language_pack-0.9.0-cp39-abi3-manylinux2014_x86_64.whl.metadata (17 kB)\n",
            "Collecting tree-sitter>=0.23.2 (from tree-sitter-language-pack)\n",
            "  Downloading tree_sitter-0.25.1-cp312-cp312-manylinux2014_x86_64.manylinux_2_17_x86_64.manylinux_2_28_x86_64.whl.metadata (10.0 kB)\n",
            "Collecting tree-sitter-c-sharp>=0.23.1 (from tree-sitter-language-pack)\n",
            "  Downloading tree_sitter_c_sharp-0.23.1-cp39-abi3-manylinux_2_5_x86_64.manylinux1_x86_64.manylinux_2_17_x86_64.manylinux2014_x86_64.whl.metadata (2.7 kB)\n",
            "Collecting tree-sitter-embedded-template>=0.23.2 (from tree-sitter-language-pack)\n",
            "  Downloading tree_sitter_embedded_template-0.25.0-cp310-abi3-manylinux1_x86_64.manylinux_2_28_x86_64.manylinux_2_5_x86_64.whl.metadata (2.3 kB)\n",
            "Collecting tree-sitter-yaml>=0.7.0 (from tree-sitter-language-pack)\n",
            "  Downloading tree_sitter_yaml-0.7.1-cp310-abi3-manylinux_2_5_x86_64.manylinux1_x86_64.manylinux_2_17_x86_64.manylinux2014_x86_64.whl.metadata (1.8 kB)\n",
            "Downloading tree_sitter_language_pack-0.9.0-cp39-abi3-manylinux2014_x86_64.whl (18.5 MB)\n",
            "\u001b[2K   \u001b[90m━━━━━━━━━━━━━━━━━━━━━━━━━━━━━━━━━━━━━━━━\u001b[0m \u001b[32m18.5/18.5 MB\u001b[0m \u001b[31m103.0 MB/s\u001b[0m eta \u001b[36m0:00:00\u001b[0m\n",
            "\u001b[?25hDownloading tree_sitter-0.25.1-cp312-cp312-manylinux2014_x86_64.manylinux_2_17_x86_64.manylinux_2_28_x86_64.whl (634 kB)\n",
            "\u001b[2K   \u001b[90m━━━━━━━━━━━━━━━━━━━━━━━━━━━━━━━━━━━━━━━━\u001b[0m \u001b[32m634.6/634.6 kB\u001b[0m \u001b[31m50.3 MB/s\u001b[0m eta \u001b[36m0:00:00\u001b[0m\n",
            "\u001b[?25hDownloading tree_sitter_c_sharp-0.23.1-cp39-abi3-manylinux_2_5_x86_64.manylinux1_x86_64.manylinux_2_17_x86_64.manylinux2014_x86_64.whl (402 kB)\n",
            "\u001b[2K   \u001b[90m━━━━━━━━━━━━━━━━━━━━━━━━━━━━━━━━━━━━━━━━\u001b[0m \u001b[32m402.8/402.8 kB\u001b[0m \u001b[31m34.5 MB/s\u001b[0m eta \u001b[36m0:00:00\u001b[0m\n",
            "\u001b[?25hDownloading tree_sitter_embedded_template-0.25.0-cp310-abi3-manylinux1_x86_64.manylinux_2_28_x86_64.manylinux_2_5_x86_64.whl (18 kB)\n",
            "Downloading tree_sitter_yaml-0.7.1-cp310-abi3-manylinux_2_5_x86_64.manylinux1_x86_64.manylinux_2_17_x86_64.manylinux2014_x86_64.whl (92 kB)\n",
            "\u001b[2K   \u001b[90m━━━━━━━━━━━━━━━━━━━━━━━━━━━━━━━━━━━━━━━━\u001b[0m \u001b[32m92.1/92.1 kB\u001b[0m \u001b[31m9.5 MB/s\u001b[0m eta \u001b[36m0:00:00\u001b[0m\n",
            "\u001b[?25hInstalling collected packages: tree-sitter-yaml, tree-sitter-embedded-template, tree-sitter-c-sharp, tree-sitter, tree-sitter-language-pack\n",
            "Successfully installed tree-sitter-0.25.1 tree-sitter-c-sharp-0.23.1 tree-sitter-embedded-template-0.25.0 tree-sitter-language-pack-0.9.0 tree-sitter-yaml-0.7.1\n"
          ]
        }
      ]
    },
    {
      "cell_type": "markdown",
      "source": [
        "##Build solidity parser"
      ],
      "metadata": {
        "id": "VdUFd6RjIzkp"
      }
    },
    {
      "cell_type": "code",
      "source": [
        "from tree_sitter_language_pack import get_language, get_parser\n",
        "\n",
        "solidity_lang = get_language(\"solidity\")\n",
        "parser = get_parser(\"solidity\")\n"
      ],
      "metadata": {
        "id": "43hOqq-bCx_d"
      },
      "execution_count": 6,
      "outputs": []
    },
    {
      "cell_type": "markdown",
      "source": [
        "##Parsing Solidity code into tokens"
      ],
      "metadata": {
        "id": "3NWKqc0eUq_W"
      }
    },
    {
      "cell_type": "code",
      "source": [
        "import os\n",
        "import pandas as pd\n",
        "\n",
        "def parsing_code(path_to_files):\n",
        "  token_list = []\n",
        "  vuln_type = []\n",
        "  #df = pd.DataFrame(list, columns=['path', 'tokens'])\n",
        "  dir_path = os.path.dirname(path_to_files)\n",
        "  for file_name in os.listdir(dir_path):\n",
        "    if file_name.endswith(\".sol\"):\n",
        "      vuln_type.append(file_name)\n",
        "      file_path = os.path.join(dir_path, file_name)\n",
        "      if os.path.isfile(file_path):\n",
        "          with open(file_path, 'r', encoding='utf-8') as f:\n",
        "            #print(file_path)\n",
        "              code = f.read()\n",
        "              code_bytes = bytes(code, 'utf-8')\n",
        "              tree = parser.parse(code_bytes)\n",
        "              unclean_tokens = extract_tokens(tree.root_node, code_bytes)\n",
        "             # merge_risky_member_access(unclean_tokens)\n",
        "              clean_token = clean_tokens(unclean_tokens)\n",
        "              token_list.append(clean_token)\n",
        "\n",
        "              #df.loc[len(df)] = [file_path, clean_token]\n",
        "  return token_list, vuln_type\n",
        "\n"
      ],
      "metadata": {
        "id": "2B7AnkIQSUIg"
      },
      "execution_count": 304,
      "outputs": []
    },
    {
      "cell_type": "markdown",
      "source": [
        "##Extracting tokens from solidity code"
      ],
      "metadata": {
        "id": "ghj9WtQFSLez"
      }
    },
    {
      "cell_type": "code",
      "source": [
        "def extract_tokens(node, code):\n",
        "    tokens = []\n",
        "    if node.child_count == 0:\n",
        "        token_text = code[node.start_byte:node.end_byte].decode('utf-8')\n",
        "        tokens.append((node.type, token_text))\n",
        "    for child in node.children:\n",
        "        tokens.extend(extract_tokens(child, code))\n",
        "    return tokens"
      ],
      "metadata": {
        "id": "t_Pj-1X8C1or"
      },
      "execution_count": 305,
      "outputs": []
    },
    {
      "cell_type": "markdown",
      "source": [
        "##Clean tokens"
      ],
      "metadata": {
        "id": "G-lTGkSKZbrm"
      }
    },
    {
      "cell_type": "code",
      "source": [
        "import re\n",
        "\n",
        "def clean_tokens(unclean_tokens):\n",
        "  clean_tokens = []\n",
        "  for token_type, token_value in unclean_tokens:\n",
        "    if token_type == \"identifier\":\n",
        "      clean_tokens.append(token_value)\n",
        "    elif token_type in [\"mapping\",\"address\",\".\",\"public\",\"private\",\"internal\", \"constructor\",\"function\",\"contract\",\"payable\",\"external\",\"bool\",\"ether\"] or token_value.startswith(\"uint\"):\n",
        "      clean_tokens.append(token_value)\n",
        "  return clean_tokens"
      ],
      "metadata": {
        "id": "DVQOCKagZbUa"
      },
      "execution_count": 306,
      "outputs": []
    },
    {
      "cell_type": "code",
      "source": [
        "def merge_risky_member_access(token_lists):\n",
        "    \"\"\"\n",
        "    Merge only known risky Solidity member accesses into single tokens.\n",
        "    Example: ['block', '.', 'timestamp'] -> ['block.timestamp']\n",
        "             ['tx', '.', 'origin'] -> ['tx.origin']\n",
        "\n",
        "    Args:\n",
        "        token_lists (list[list[str]]): tokenized Solidity files from Tree-sitter.\n",
        "\n",
        "    Returns:\n",
        "        list[list[str]]: token lists with risky member accesses merged.\n",
        "    \"\"\"\n",
        "    # Known risky patterns from OWASP Top 10 + common insecure sources\n",
        "    risky_patterns = {\n",
        "        (\"block\", \"timestamp\"),\n",
        "        (\"block\", \"difficulty\"),\n",
        "        (\"block\", \"number\"),      # sometimes used in RNG\n",
        "        (\"tx\", \"origin\"),         # access control vulnerability\n",
        "        (\"msg\", \"value\"),         # unchecked value transfer\n",
        "        (\"msg\", \"sender\"),        # not always bad, but often relevant in auth\n",
        "        (\"address\", \"call\"),      # low-level call\n",
        "        (\"address\", \"delegatecall\"),\n",
        "        (\"address\", \"staticcall\")\n",
        "    }\n",
        "\n",
        "    merged_all_files = []\n",
        "\n",
        "    for tokens in token_lists:\n",
        "        merged_tokens = []\n",
        "        i = 0\n",
        "        while i < len(tokens):\n",
        "            if (\n",
        "                i + 2 < len(tokens)\n",
        "                and tokens[i+1] == \".\"\n",
        "                and (tokens[i], tokens[i+2]) in risky_patterns\n",
        "            ):\n",
        "                merged_tokens.append(tokens[i] + \".\" + tokens[i+2])\n",
        "                i += 3\n",
        "            else:\n",
        "                merged_tokens.append(tokens[i])\n",
        "                i += 1\n",
        "        merged_all_files.append(merged_tokens)\n",
        "        #print(\"merged files\",merged_all_files)\n",
        "\n",
        "    return merged_all_files\n"
      ],
      "metadata": {
        "id": "9StlDLXtE4qn"
      },
      "execution_count": 307,
      "outputs": []
    },
    {
      "cell_type": "code",
      "source": [
        "\n",
        "vuln_tokens,owasp = parsing_code(\"/home/OWASP/vulnerable/\")\n",
        "print(vuln_tokens)\n",
        "#vuln_tokens = merge_risky_member_access(vuln_tokens)\n",
        "\n",
        "#fixed_tokens, = parsing_code(\"/home/OWASP/fixed/\")\n",
        "#fixed_tokens = merge_risky_member_access(fixed_tokens)\n"
      ],
      "metadata": {
        "colab": {
          "base_uri": "https://localhost:8080/"
        },
        "id": "XSEFcRldUeUl",
        "outputId": "77b5270c-96d1-42be-aa18-f99309100973"
      },
      "execution_count": 308,
      "outputs": [
        {
          "output_type": "stream",
          "name": "stdout",
          "text": [
            "[['contract', 'Solidity_InsecureRandomness', 'constructor', 'payable', 'function', 'guess', 'uint256', '_guess', 'public', 'uint256', 'answer', 'uint256', 'keccak256', 'abi', '.', 'encodePacked', 'block', '.', 'timestamp', 'block', '.', 'difficulty', 'msg', '.', 'sender', '_guess', 'answer', 'bool', 'sent', 'msg', '.', 'sender', '.', 'call', 'value', 'ether', 'require', 'sent'], ['contract', 'Solidity_AccessControl', 'mapping', 'address', 'uint256', 'public', 'balances', 'function', 'burn', 'address', 'account', 'uint256', 'amount', 'public', '_burn', 'account', 'amount'], ['contract', 'Solidity_UncheckedExternalCall', 'address', 'public', 'owner', 'constructor', 'public', 'owner', 'msg', '.', 'sender', 'function', 'forward', 'address', 'callee', '_data', 'public', 'require', 'callee', '.', 'delegatecall', '_data'], ['IPriceFeed', 'function', 'getLatestPrice', 'external', 'contract', 'PriceOracleManipulation', 'address', 'public', 'owner', 'IPriceFeed', 'public', 'priceFeed', 'constructor', 'address', '_priceFeed', 'owner', 'msg', '.', 'sender', 'priceFeed', 'IPriceFeed', '_priceFeed', 'function', 'borrow', 'uint256', 'amount', 'public', 'price', 'priceFeed', '.', 'getLatestPrice', 'require', 'price', 'uint256', 'collateralValue', 'uint256', 'price', 'amount', 'function', 'repay', 'uint256', 'amount', 'public'], ['contract', 'Solidity_Reentrancy', 'mapping', 'address', 'uint', 'public', 'balances', 'function', 'deposit', 'external', 'payable', 'balances', 'msg', '.', 'sender', 'msg', '.', 'value', 'function', 'withdraw', 'external', 'uint', 'amount', 'balances', 'msg', '.', 'sender', 'require', 'amount', 'bool', 'success', 'msg', '.', 'sender', '.', 'call', 'value', 'amount', 'require', 'success', 'balances', 'msg', '.', 'sender'], ['contract', 'Solidity_DOS', 'address', 'public', 'king', 'uint256', 'public', 'balance', 'function', 'claimThrone', 'external', 'payable', 'require', 'msg', '.', 'value', 'balance', 'bool', 'sent', 'king', '.', 'call', 'value', 'balance', 'require', 'sent', 'balance', 'msg', '.', 'value', 'king', 'msg', '.', 'sender'], ['contract', 'Solidity_OverflowUnderflow', 'uint8', 'public', 'balance', 'constructor', 'public', 'balance', 'function', 'increment', 'uint8', 'value', 'public', 'balance', 'value', 'function', 'decrement', 'uint8', 'value', 'public', 'balance', 'value'], ['contract', 'Solidity_LogicErrors', 'mapping', 'address', 'uint256', 'public', 'userBalances', 'uint256', 'public', 'totalLendingPool', 'function', 'deposit', 'public', 'payable', 'userBalances', 'msg', '.', 'sender', 'msg', '.', 'value', 'totalLendingPool', 'msg', '.', 'value', 'function', 'withdraw', 'uint256', 'amount', 'public', 'require', 'userBalances', 'msg', '.', 'sender', 'amount', 'userBalances', 'msg', '.', 'sender', 'amount', 'payable', 'msg', '.', 'sender', '.', 'transfer', 'amount', 'function', 'mintReward', 'address', 'to', 'uint256', 'rewardAmount', 'public', 'userBalances', 'to', 'rewardAmount'], ['contract', 'Solidity_LackOfInputValidation', 'mapping', 'address', 'uint256', 'public', 'balances', 'function', 'setBalance', 'address', 'user', 'uint256', 'amount', 'public', 'balances', 'user', 'amount']]\n"
          ]
        }
      ]
    },
    {
      "cell_type": "code",
      "source": [
        "def tokens_to_string(list_of_token_lists):\n",
        "  return [\" \".join(word) for word in list_of_token_lists]\n"
      ],
      "metadata": {
        "id": "DHeY6qoEy4r1"
      },
      "execution_count": 309,
      "outputs": []
    },
    {
      "cell_type": "code",
      "source": [
        "import numpy as np\n",
        "\n",
        "vuln_token = tokens_to_string(vuln_tokens)\n",
        "fixed_token = tokens_to_string(fixed_tokens)\n",
        "docs = vuln_token + fixed_token\n",
        "labels = np.array([0] * len(vuln_token) + [1] * len(fixed_token))"
      ],
      "metadata": {
        "id": "VIwW7hofy91E"
      },
      "execution_count": 310,
      "outputs": []
    },
    {
      "cell_type": "code",
      "source": [
        "print(owasp)"
      ],
      "metadata": {
        "colab": {
          "base_uri": "https://localhost:8080/"
        },
        "id": "NQoDTtXSU3qh",
        "outputId": "83fa7e8d-1feb-4040-d539-57a1bd2c5836"
      },
      "execution_count": 311,
      "outputs": [
        {
          "output_type": "stream",
          "name": "stdout",
          "text": [
            "['insecure_randomness.sol', 'access_control.sol', 'unchecked_external_calls.sol', 'price_oracle_manipulation.sol', 'reentrance_attacks.sol', 'dos.sol', 'integer_overunder_flow.sol', 'logic_errors.sol', 'lack_input_validation.sol']\n"
          ]
        }
      ]
    },
    {
      "cell_type": "code",
      "source": [
        "df = pd.DataFrame({'vuln_tokes': vuln_token, 'fixed_tokens':fixed_token,'vuln_type':owasp})\n",
        "df"
      ],
      "metadata": {
        "colab": {
          "base_uri": "https://localhost:8080/",
          "height": 629
        },
        "id": "98Ph1wUrSqXn",
        "outputId": "d3596d84-7a91-4188-d85a-4632fc778a0c"
      },
      "execution_count": 312,
      "outputs": [
        {
          "output_type": "execute_result",
          "data": {
            "text/plain": [
              "                                          vuln_tokes  \\\n",
              "0  contract Solidity_InsecureRandomness construct...   \n",
              "1  contract Solidity_AccessControl mapping addres...   \n",
              "2  contract Solidity_UncheckedExternalCall addres...   \n",
              "3  IPriceFeed function getLatestPrice external co...   \n",
              "4  contract Solidity_Reentrancy mapping address u...   \n",
              "5  contract Solidity_DOS address public king uint...   \n",
              "6  contract Solidity_OverflowUnderflow uint8 publ...   \n",
              "7  contract Solidity_LogicErrors mapping address ...   \n",
              "8  contract Solidity_LackOfInputValidation mappin...   \n",
              "\n",
              "                                        fixed_tokens  \\\n",
              "0  contract Solidity_LogicErrors mapping address ...   \n",
              "1  IPriceFeed function getLatestPrice external co...   \n",
              "2  contract LackOfInputValidation mapping address...   \n",
              "3  contract Solidity_DOS address public king uint...   \n",
              "4  contract Solidity_InsecureRandomness VRFConsum...   \n",
              "5  contract Solidity_OverflowUnderflow uint8 publ...   \n",
              "6  contract Solidity_AccessControl Ownable mappin...   \n",
              "7  contract Solidity_CheckedExternalCall address ...   \n",
              "8  contract Solidity_Reentrancy mapping address u...   \n",
              "\n",
              "                       vuln_type  \n",
              "0        insecure_randomness.sol  \n",
              "1             access_control.sol  \n",
              "2   unchecked_external_calls.sol  \n",
              "3  price_oracle_manipulation.sol  \n",
              "4         reentrance_attacks.sol  \n",
              "5                        dos.sol  \n",
              "6     integer_overunder_flow.sol  \n",
              "7               logic_errors.sol  \n",
              "8      lack_input_validation.sol  "
            ],
            "text/html": [
              "\n",
              "  <div id=\"df-81f5d346-9601-40e7-a614-c7c962787c5a\" class=\"colab-df-container\">\n",
              "    <div>\n",
              "<style scoped>\n",
              "    .dataframe tbody tr th:only-of-type {\n",
              "        vertical-align: middle;\n",
              "    }\n",
              "\n",
              "    .dataframe tbody tr th {\n",
              "        vertical-align: top;\n",
              "    }\n",
              "\n",
              "    .dataframe thead th {\n",
              "        text-align: right;\n",
              "    }\n",
              "</style>\n",
              "<table border=\"1\" class=\"dataframe\">\n",
              "  <thead>\n",
              "    <tr style=\"text-align: right;\">\n",
              "      <th></th>\n",
              "      <th>vuln_tokes</th>\n",
              "      <th>fixed_tokens</th>\n",
              "      <th>vuln_type</th>\n",
              "    </tr>\n",
              "  </thead>\n",
              "  <tbody>\n",
              "    <tr>\n",
              "      <th>0</th>\n",
              "      <td>contract Solidity_InsecureRandomness construct...</td>\n",
              "      <td>contract Solidity_LogicErrors mapping address ...</td>\n",
              "      <td>insecure_randomness.sol</td>\n",
              "    </tr>\n",
              "    <tr>\n",
              "      <th>1</th>\n",
              "      <td>contract Solidity_AccessControl mapping addres...</td>\n",
              "      <td>IPriceFeed function getLatestPrice external co...</td>\n",
              "      <td>access_control.sol</td>\n",
              "    </tr>\n",
              "    <tr>\n",
              "      <th>2</th>\n",
              "      <td>contract Solidity_UncheckedExternalCall addres...</td>\n",
              "      <td>contract LackOfInputValidation mapping address...</td>\n",
              "      <td>unchecked_external_calls.sol</td>\n",
              "    </tr>\n",
              "    <tr>\n",
              "      <th>3</th>\n",
              "      <td>IPriceFeed function getLatestPrice external co...</td>\n",
              "      <td>contract Solidity_DOS address public king uint...</td>\n",
              "      <td>price_oracle_manipulation.sol</td>\n",
              "    </tr>\n",
              "    <tr>\n",
              "      <th>4</th>\n",
              "      <td>contract Solidity_Reentrancy mapping address u...</td>\n",
              "      <td>contract Solidity_InsecureRandomness VRFConsum...</td>\n",
              "      <td>reentrance_attacks.sol</td>\n",
              "    </tr>\n",
              "    <tr>\n",
              "      <th>5</th>\n",
              "      <td>contract Solidity_DOS address public king uint...</td>\n",
              "      <td>contract Solidity_OverflowUnderflow uint8 publ...</td>\n",
              "      <td>dos.sol</td>\n",
              "    </tr>\n",
              "    <tr>\n",
              "      <th>6</th>\n",
              "      <td>contract Solidity_OverflowUnderflow uint8 publ...</td>\n",
              "      <td>contract Solidity_AccessControl Ownable mappin...</td>\n",
              "      <td>integer_overunder_flow.sol</td>\n",
              "    </tr>\n",
              "    <tr>\n",
              "      <th>7</th>\n",
              "      <td>contract Solidity_LogicErrors mapping address ...</td>\n",
              "      <td>contract Solidity_CheckedExternalCall address ...</td>\n",
              "      <td>logic_errors.sol</td>\n",
              "    </tr>\n",
              "    <tr>\n",
              "      <th>8</th>\n",
              "      <td>contract Solidity_LackOfInputValidation mappin...</td>\n",
              "      <td>contract Solidity_Reentrancy mapping address u...</td>\n",
              "      <td>lack_input_validation.sol</td>\n",
              "    </tr>\n",
              "  </tbody>\n",
              "</table>\n",
              "</div>\n",
              "    <div class=\"colab-df-buttons\">\n",
              "\n",
              "  <div class=\"colab-df-container\">\n",
              "    <button class=\"colab-df-convert\" onclick=\"convertToInteractive('df-81f5d346-9601-40e7-a614-c7c962787c5a')\"\n",
              "            title=\"Convert this dataframe to an interactive table.\"\n",
              "            style=\"display:none;\">\n",
              "\n",
              "  <svg xmlns=\"http://www.w3.org/2000/svg\" height=\"24px\" viewBox=\"0 -960 960 960\">\n",
              "    <path d=\"M120-120v-720h720v720H120Zm60-500h600v-160H180v160Zm220 220h160v-160H400v160Zm0 220h160v-160H400v160ZM180-400h160v-160H180v160Zm440 0h160v-160H620v160ZM180-180h160v-160H180v160Zm440 0h160v-160H620v160Z\"/>\n",
              "  </svg>\n",
              "    </button>\n",
              "\n",
              "  <style>\n",
              "    .colab-df-container {\n",
              "      display:flex;\n",
              "      gap: 12px;\n",
              "    }\n",
              "\n",
              "    .colab-df-convert {\n",
              "      background-color: #E8F0FE;\n",
              "      border: none;\n",
              "      border-radius: 50%;\n",
              "      cursor: pointer;\n",
              "      display: none;\n",
              "      fill: #1967D2;\n",
              "      height: 32px;\n",
              "      padding: 0 0 0 0;\n",
              "      width: 32px;\n",
              "    }\n",
              "\n",
              "    .colab-df-convert:hover {\n",
              "      background-color: #E2EBFA;\n",
              "      box-shadow: 0px 1px 2px rgba(60, 64, 67, 0.3), 0px 1px 3px 1px rgba(60, 64, 67, 0.15);\n",
              "      fill: #174EA6;\n",
              "    }\n",
              "\n",
              "    .colab-df-buttons div {\n",
              "      margin-bottom: 4px;\n",
              "    }\n",
              "\n",
              "    [theme=dark] .colab-df-convert {\n",
              "      background-color: #3B4455;\n",
              "      fill: #D2E3FC;\n",
              "    }\n",
              "\n",
              "    [theme=dark] .colab-df-convert:hover {\n",
              "      background-color: #434B5C;\n",
              "      box-shadow: 0px 1px 3px 1px rgba(0, 0, 0, 0.15);\n",
              "      filter: drop-shadow(0px 1px 2px rgba(0, 0, 0, 0.3));\n",
              "      fill: #FFFFFF;\n",
              "    }\n",
              "  </style>\n",
              "\n",
              "    <script>\n",
              "      const buttonEl =\n",
              "        document.querySelector('#df-81f5d346-9601-40e7-a614-c7c962787c5a button.colab-df-convert');\n",
              "      buttonEl.style.display =\n",
              "        google.colab.kernel.accessAllowed ? 'block' : 'none';\n",
              "\n",
              "      async function convertToInteractive(key) {\n",
              "        const element = document.querySelector('#df-81f5d346-9601-40e7-a614-c7c962787c5a');\n",
              "        const dataTable =\n",
              "          await google.colab.kernel.invokeFunction('convertToInteractive',\n",
              "                                                    [key], {});\n",
              "        if (!dataTable) return;\n",
              "\n",
              "        const docLinkHtml = 'Like what you see? Visit the ' +\n",
              "          '<a target=\"_blank\" href=https://colab.research.google.com/notebooks/data_table.ipynb>data table notebook</a>'\n",
              "          + ' to learn more about interactive tables.';\n",
              "        element.innerHTML = '';\n",
              "        dataTable['output_type'] = 'display_data';\n",
              "        await google.colab.output.renderOutput(dataTable, element);\n",
              "        const docLink = document.createElement('div');\n",
              "        docLink.innerHTML = docLinkHtml;\n",
              "        element.appendChild(docLink);\n",
              "      }\n",
              "    </script>\n",
              "  </div>\n",
              "\n",
              "\n",
              "    <div id=\"df-ee6548f3-0fce-4f0f-b0a4-00cb659dfdca\">\n",
              "      <button class=\"colab-df-quickchart\" onclick=\"quickchart('df-ee6548f3-0fce-4f0f-b0a4-00cb659dfdca')\"\n",
              "                title=\"Suggest charts\"\n",
              "                style=\"display:none;\">\n",
              "\n",
              "<svg xmlns=\"http://www.w3.org/2000/svg\" height=\"24px\"viewBox=\"0 0 24 24\"\n",
              "     width=\"24px\">\n",
              "    <g>\n",
              "        <path d=\"M19 3H5c-1.1 0-2 .9-2 2v14c0 1.1.9 2 2 2h14c1.1 0 2-.9 2-2V5c0-1.1-.9-2-2-2zM9 17H7v-7h2v7zm4 0h-2V7h2v10zm4 0h-2v-4h2v4z\"/>\n",
              "    </g>\n",
              "</svg>\n",
              "      </button>\n",
              "\n",
              "<style>\n",
              "  .colab-df-quickchart {\n",
              "      --bg-color: #E8F0FE;\n",
              "      --fill-color: #1967D2;\n",
              "      --hover-bg-color: #E2EBFA;\n",
              "      --hover-fill-color: #174EA6;\n",
              "      --disabled-fill-color: #AAA;\n",
              "      --disabled-bg-color: #DDD;\n",
              "  }\n",
              "\n",
              "  [theme=dark] .colab-df-quickchart {\n",
              "      --bg-color: #3B4455;\n",
              "      --fill-color: #D2E3FC;\n",
              "      --hover-bg-color: #434B5C;\n",
              "      --hover-fill-color: #FFFFFF;\n",
              "      --disabled-bg-color: #3B4455;\n",
              "      --disabled-fill-color: #666;\n",
              "  }\n",
              "\n",
              "  .colab-df-quickchart {\n",
              "    background-color: var(--bg-color);\n",
              "    border: none;\n",
              "    border-radius: 50%;\n",
              "    cursor: pointer;\n",
              "    display: none;\n",
              "    fill: var(--fill-color);\n",
              "    height: 32px;\n",
              "    padding: 0;\n",
              "    width: 32px;\n",
              "  }\n",
              "\n",
              "  .colab-df-quickchart:hover {\n",
              "    background-color: var(--hover-bg-color);\n",
              "    box-shadow: 0 1px 2px rgba(60, 64, 67, 0.3), 0 1px 3px 1px rgba(60, 64, 67, 0.15);\n",
              "    fill: var(--button-hover-fill-color);\n",
              "  }\n",
              "\n",
              "  .colab-df-quickchart-complete:disabled,\n",
              "  .colab-df-quickchart-complete:disabled:hover {\n",
              "    background-color: var(--disabled-bg-color);\n",
              "    fill: var(--disabled-fill-color);\n",
              "    box-shadow: none;\n",
              "  }\n",
              "\n",
              "  .colab-df-spinner {\n",
              "    border: 2px solid var(--fill-color);\n",
              "    border-color: transparent;\n",
              "    border-bottom-color: var(--fill-color);\n",
              "    animation:\n",
              "      spin 1s steps(1) infinite;\n",
              "  }\n",
              "\n",
              "  @keyframes spin {\n",
              "    0% {\n",
              "      border-color: transparent;\n",
              "      border-bottom-color: var(--fill-color);\n",
              "      border-left-color: var(--fill-color);\n",
              "    }\n",
              "    20% {\n",
              "      border-color: transparent;\n",
              "      border-left-color: var(--fill-color);\n",
              "      border-top-color: var(--fill-color);\n",
              "    }\n",
              "    30% {\n",
              "      border-color: transparent;\n",
              "      border-left-color: var(--fill-color);\n",
              "      border-top-color: var(--fill-color);\n",
              "      border-right-color: var(--fill-color);\n",
              "    }\n",
              "    40% {\n",
              "      border-color: transparent;\n",
              "      border-right-color: var(--fill-color);\n",
              "      border-top-color: var(--fill-color);\n",
              "    }\n",
              "    60% {\n",
              "      border-color: transparent;\n",
              "      border-right-color: var(--fill-color);\n",
              "    }\n",
              "    80% {\n",
              "      border-color: transparent;\n",
              "      border-right-color: var(--fill-color);\n",
              "      border-bottom-color: var(--fill-color);\n",
              "    }\n",
              "    90% {\n",
              "      border-color: transparent;\n",
              "      border-bottom-color: var(--fill-color);\n",
              "    }\n",
              "  }\n",
              "</style>\n",
              "\n",
              "      <script>\n",
              "        async function quickchart(key) {\n",
              "          const quickchartButtonEl =\n",
              "            document.querySelector('#' + key + ' button');\n",
              "          quickchartButtonEl.disabled = true;  // To prevent multiple clicks.\n",
              "          quickchartButtonEl.classList.add('colab-df-spinner');\n",
              "          try {\n",
              "            const charts = await google.colab.kernel.invokeFunction(\n",
              "                'suggestCharts', [key], {});\n",
              "          } catch (error) {\n",
              "            console.error('Error during call to suggestCharts:', error);\n",
              "          }\n",
              "          quickchartButtonEl.classList.remove('colab-df-spinner');\n",
              "          quickchartButtonEl.classList.add('colab-df-quickchart-complete');\n",
              "        }\n",
              "        (() => {\n",
              "          let quickchartButtonEl =\n",
              "            document.querySelector('#df-ee6548f3-0fce-4f0f-b0a4-00cb659dfdca button');\n",
              "          quickchartButtonEl.style.display =\n",
              "            google.colab.kernel.accessAllowed ? 'block' : 'none';\n",
              "        })();\n",
              "      </script>\n",
              "    </div>\n",
              "\n",
              "  <div id=\"id_9ed35247-210c-430c-9f2b-2990a961052f\">\n",
              "    <style>\n",
              "      .colab-df-generate {\n",
              "        background-color: #E8F0FE;\n",
              "        border: none;\n",
              "        border-radius: 50%;\n",
              "        cursor: pointer;\n",
              "        display: none;\n",
              "        fill: #1967D2;\n",
              "        height: 32px;\n",
              "        padding: 0 0 0 0;\n",
              "        width: 32px;\n",
              "      }\n",
              "\n",
              "      .colab-df-generate:hover {\n",
              "        background-color: #E2EBFA;\n",
              "        box-shadow: 0px 1px 2px rgba(60, 64, 67, 0.3), 0px 1px 3px 1px rgba(60, 64, 67, 0.15);\n",
              "        fill: #174EA6;\n",
              "      }\n",
              "\n",
              "      [theme=dark] .colab-df-generate {\n",
              "        background-color: #3B4455;\n",
              "        fill: #D2E3FC;\n",
              "      }\n",
              "\n",
              "      [theme=dark] .colab-df-generate:hover {\n",
              "        background-color: #434B5C;\n",
              "        box-shadow: 0px 1px 3px 1px rgba(0, 0, 0, 0.15);\n",
              "        filter: drop-shadow(0px 1px 2px rgba(0, 0, 0, 0.3));\n",
              "        fill: #FFFFFF;\n",
              "      }\n",
              "    </style>\n",
              "    <button class=\"colab-df-generate\" onclick=\"generateWithVariable('df')\"\n",
              "            title=\"Generate code using this dataframe.\"\n",
              "            style=\"display:none;\">\n",
              "\n",
              "  <svg xmlns=\"http://www.w3.org/2000/svg\" height=\"24px\"viewBox=\"0 0 24 24\"\n",
              "       width=\"24px\">\n",
              "    <path d=\"M7,19H8.4L18.45,9,17,7.55,7,17.6ZM5,21V16.75L18.45,3.32a2,2,0,0,1,2.83,0l1.4,1.43a1.91,1.91,0,0,1,.58,1.4,1.91,1.91,0,0,1-.58,1.4L9.25,21ZM18.45,9,17,7.55Zm-12,3A5.31,5.31,0,0,0,4.9,8.1,5.31,5.31,0,0,0,1,6.5,5.31,5.31,0,0,0,4.9,4.9,5.31,5.31,0,0,0,6.5,1,5.31,5.31,0,0,0,8.1,4.9,5.31,5.31,0,0,0,12,6.5,5.46,5.46,0,0,0,6.5,12Z\"/>\n",
              "  </svg>\n",
              "    </button>\n",
              "    <script>\n",
              "      (() => {\n",
              "      const buttonEl =\n",
              "        document.querySelector('#id_9ed35247-210c-430c-9f2b-2990a961052f button.colab-df-generate');\n",
              "      buttonEl.style.display =\n",
              "        google.colab.kernel.accessAllowed ? 'block' : 'none';\n",
              "\n",
              "      buttonEl.onclick = () => {\n",
              "        google.colab.notebook.generateWithVariable('df');\n",
              "      }\n",
              "      })();\n",
              "    </script>\n",
              "  </div>\n",
              "\n",
              "    </div>\n",
              "  </div>\n"
            ],
            "application/vnd.google.colaboratory.intrinsic+json": {
              "type": "dataframe",
              "variable_name": "df",
              "summary": "{\n  \"name\": \"df\",\n  \"rows\": 9,\n  \"fields\": [\n    {\n      \"column\": \"vuln_tokes\",\n      \"properties\": {\n        \"dtype\": \"string\",\n        \"num_unique_values\": 9,\n        \"samples\": [\n          \"contract Solidity_LogicErrors mapping address uint256 public userBalances uint256 public totalLendingPool function deposit public payable userBalances msg . sender msg . value totalLendingPool msg . value function withdraw uint256 amount public require userBalances msg . sender amount userBalances msg . sender amount payable msg . sender . transfer amount function mintReward address to uint256 rewardAmount public userBalances to rewardAmount\",\n          \"contract Solidity_AccessControl mapping address uint256 public balances function burn address account uint256 amount public _burn account amount\",\n          \"contract Solidity_DOS address public king uint256 public balance function claimThrone external payable require msg . value balance bool sent king . call value balance require sent balance msg . value king msg . sender\"\n        ],\n        \"semantic_type\": \"\",\n        \"description\": \"\"\n      }\n    },\n    {\n      \"column\": \"fixed_tokens\",\n      \"properties\": {\n        \"dtype\": \"string\",\n        \"num_unique_values\": 9,\n        \"samples\": [\n          \"contract Solidity_CheckedExternalCall address public owner constructor owner msg.sender function forward address callee _data public bool success callee . delegatecall _data require success\",\n          \"IPriceFeed function getLatestPrice external contract PriceOracleManipulation address public owner IPriceFeed public priceFeed public minPrice public maxPrice constructor address _priceFeed owner msg.sender priceFeed IPriceFeed _priceFeed function borrow uint256 amount public price priceFeed . getLatestPrice require price price minPrice price maxPrice uint256 collateralValue uint256 price amount function repay uint256 amount public\",\n          \"contract Solidity_OverflowUnderflow uint8 public balance constructor balance function increment uint8 value public balance value function decrement uint8 value public require balance value balance value\"\n        ],\n        \"semantic_type\": \"\",\n        \"description\": \"\"\n      }\n    },\n    {\n      \"column\": \"vuln_type\",\n      \"properties\": {\n        \"dtype\": \"string\",\n        \"num_unique_values\": 9,\n        \"samples\": [\n          \"logic_errors.sol\",\n          \"access_control.sol\",\n          \"dos.sol\"\n        ],\n        \"semantic_type\": \"\",\n        \"description\": \"\"\n      }\n    }\n  ]\n}"
            }
          },
          "metadata": {},
          "execution_count": 312
        }
      ]
    },
    {
      "cell_type": "code",
      "source": [
        "from sklearn.feature_extraction.text import TfidfVectorizer\n",
        "\n",
        "vectorizer = TfidfVectorizer(\n",
        "    analyzer=\"word\",\n",
        "    token_pattern = r\"\\S+\",\n",
        "    lowercase=False,\n",
        "    ngram_range=(1,1),\n",
        "    max_df=1.0,\n",
        "    min_df=1,\n",
        "    max_features=None,\n",
        ")\n"
      ],
      "metadata": {
        "id": "xPtB13ANZY6m"
      },
      "execution_count": 313,
      "outputs": []
    },
    {
      "cell_type": "code",
      "source": [
        "X = vectorizer.fit_transform(docs)\n",
        "print(\"TF-IDF shape:\", X.shape)\n"
      ],
      "metadata": {
        "id": "h3gXKNWWm5ZU",
        "colab": {
          "base_uri": "https://localhost:8080/"
        },
        "outputId": "70dfd1c3-2e65-4a38-8afc-4c6c11703089"
      },
      "execution_count": 314,
      "outputs": [
        {
          "output_type": "stream",
          "name": "stdout",
          "text": [
            "TF-IDF shape: (18, 100)\n"
          ]
        }
      ]
    },
    {
      "cell_type": "code",
      "source": [
        "\n",
        "feature_names = np.array(vectorizer.get_feature_names_out())\n",
        "\n",
        "# 4. Compute average TF-IDF per class\n",
        "vuln_mean = X[labels == 0].mean(axis=0).A1\n",
        "fixed_mean = X[labels == 1].mean(axis=0).A1\n",
        "\n",
        "# 5. Get top N tokens for each class\n",
        "N = 10\n",
        "top_vuln_idx = np.argsort(vuln_mean - fixed_mean)[::-1][:N]\n",
        "top_fixed_idx = np.argsort(fixed_mean - vuln_mean)[::-1][:N]\n",
        "\n",
        "print(\"🔴 Top Vulnerable Tokens:\")\n",
        "for idx in top_vuln_idx:\n",
        "    print(f\"{feature_names[idx]}  ({vuln_mean[idx]:.4f})\")\n",
        "\n",
        "print(\"\\n🟢 Top Fixed Tokens:\")\n",
        "for idx in top_fixed_idx:\n",
        "    print(f\"{feature_names[idx]}  ({fixed_mean[idx]:.4f})\")"
      ],
      "metadata": {
        "colab": {
          "base_uri": "https://localhost:8080/"
        },
        "id": "EtVhZ-Ck3r3A",
        "outputId": "572a02b6-911e-417a-8916-1aed764eec9b"
      },
      "execution_count": 315,
      "outputs": [
        {
          "output_type": "stream",
          "name": "stdout",
          "text": [
            "🔴 Top Vulnerable Tokens:\n",
            "msg  (0.1890)\n",
            ".  (0.2038)\n",
            "sender  (0.1382)\n",
            "value  (0.1229)\n",
            "sent  (0.0612)\n",
            "block  (0.0381)\n",
            "answer  (0.0381)\n",
            "Solidity_LackOfInputValidation  (0.0364)\n",
            "Solidity_UncheckedExternalCall  (0.0299)\n",
            "timestamp  (0.0190)\n",
            "\n",
            "🟢 Top Fixed Tokens:\n",
            "msg.sender  (0.1497)\n",
            "msg.value  (0.0704)\n",
            "onlyOwner  (0.0686)\n",
            "success  (0.0790)\n",
            "randomResult  (0.0438)\n",
            "fee  (0.0438)\n",
            "previousKing  (0.0393)\n",
            "previousBalance  (0.0393)\n",
            "owner  (0.1000)\n",
            "Ownable  (0.0343)\n"
          ]
        }
      ]
    },
    {
      "cell_type": "code",
      "source": [],
      "metadata": {
        "id": "Kooj4hOQO5O9"
      },
      "execution_count": 315,
      "outputs": []
    },
    {
      "cell_type": "code",
      "source": [
        "import matplotlib.pyplot as plt\n",
        "from sklearn.manifold import TSNE\n",
        "# from umap import UMAP  # optional if you want UMAP instead\n",
        "\n",
        "# X = TF-IDF matrix from earlier, labels = 0 (vuln) / 1 (fixed)\n",
        "\n",
        "tsne = TSNE(n_components=2, random_state=42, perplexity=5)\n",
        "X_2d = tsne.fit_transform(X.toarray())\n",
        "\n",
        "plt.figure(figsize=(8,6))\n",
        "plt.scatter(X_2d[labels==0,0], X_2d[labels==0,1], c='red', label='Vulnerable', alpha=0.7)\n",
        "plt.scatter(X_2d[labels==1,0], X_2d[labels==1,1], c='green', label='Fixed', alpha=0.7)\n",
        "plt.legend()\n",
        "plt.title(\"t-SNE projection of TF-IDF features\")\n",
        "plt.show()\n"
      ],
      "metadata": {
        "colab": {
          "base_uri": "https://localhost:8080/",
          "height": 483
        },
        "id": "ugBxYtM05SZ3",
        "outputId": "202bf79c-1c1b-44ea-abc4-ea7e821c26a7"
      },
      "execution_count": 316,
      "outputs": [
        {
          "output_type": "display_data",
          "data": {
            "text/plain": [
              "<Figure size 800x600 with 1 Axes>"
            ],
            "image/png": "[encoded data removed]"
          },
          "metadata": {}
        }
      ]
    },
    {
      "cell_type": "code",
      "source": [
        "from sklearn.linear_model import LogisticRegression\n",
        "from sklearn.model_selection import LeaveOneGroupOut # Changed from LeavePGroupOut\n",
        "from sklearn.metrics import accuracy_score\n",
        "\n",
        "# Group IDs so each vuln/fixed pair is left out together\n",
        "groups = list(range(len(vuln_token))) + list(range(len(fixed_token))) # Changed from vuln_strings and fixed_strings\n",
        "\n",
        "clf = LogisticRegression(max_iter=1000)\n",
        "logo = LeaveOneGroupOut() # Changed from LeavePGroupOut(n_groups=len(vuln_strings))\n",
        "\n",
        "scores = []\n",
        "# The groups parameter is not needed for LeaveOneGroupOut\n",
        "for train_idx, test_idx in logo.split(X, labels, groups=groups):\n",
        "    clf.fit(X[train_idx], labels[train_idx])\n",
        "    preds = clf.predict(X[test_idx])\n",
        "    scores.append(accuracy_score(labels[test_idx], preds))\n",
        "\n",
        "print(f\"Leave-One-Pair-Out Accuracy: {sum(scores)/len(scores):.2f}\")"
      ],
      "metadata": {
        "colab": {
          "base_uri": "https://localhost:8080/"
        },
        "id": "WYT6jfZDO6jp",
        "outputId": "9bfd94ac-d7c2-497b-9716-5da0ca9d9a88"
      },
      "execution_count": 318,
      "outputs": [
        {
          "output_type": "stream",
          "name": "stdout",
          "text": [
            "Leave-One-Pair-Out Accuracy: 0.39\n"
          ]
        }
      ]
    },
    {
      "cell_type": "code",
      "source": [
        "import numpy as np\n",
        "\n",
        "feature_names = np.array(vectorizer.get_feature_names_out())\n",
        "coefs = clf.coef_[0]\n",
        "\n",
        "top_vuln_idx = np.argsort(coefs)[::-1][:10]\n",
        "top_fixed_idx = np.argsort(coefs)[:10]\n",
        "\n",
        "print(\"🔴 Vulnerable-driving tokens:\")\n",
        "for idx in top_vuln_idx:\n",
        "    print(f\"{feature_names[idx]} ({coefs[idx]:.4f})\")\n",
        "\n",
        "print(\"\\n🟢 Fixed-driving tokens:\")\n",
        "for idx in top_fixed_idx:\n",
        "    print(f\"{feature_names[idx]} ({coefs[idx]:.4f})\")\n"
      ],
      "metadata": {
        "colab": {
          "base_uri": "https://localhost:8080/"
        },
        "id": "a_vJqEW8PYo6",
        "outputId": "c4c46f9a-7e8b-493f-9f42-e64f4af60f3c"
      },
      "execution_count": 320,
      "outputs": [
        {
          "output_type": "stream",
          "name": "stdout",
          "text": [
            "🔴 Vulnerable-driving tokens:\n",
            "msg.sender (0.3708)\n",
            "onlyOwner (0.2521)\n",
            "msg.value (0.2008)\n",
            "user (0.1950)\n",
            "randomResult (0.1580)\n",
            "fee (0.1580)\n",
            "previousBalance (0.1484)\n",
            "previousKing (0.1484)\n",
            "Ownable (0.1395)\n",
            "address (0.1187)\n",
            "\n",
            "🟢 Fixed-driving tokens:\n",
            "msg (-0.6562)\n",
            ". (-0.5533)\n",
            "sender (-0.4804)\n",
            "value (-0.2134)\n",
            "sent (-0.1479)\n",
            "answer (-0.1236)\n",
            "block (-0.1236)\n",
            "Solidity_UncheckedExternalCall (-0.1227)\n",
            "call (-0.0965)\n",
            "uint (-0.0906)\n"
          ]
        }
      ]
    },
    {
      "cell_type": "code",
      "source": [],
      "metadata": {
        "id": "JS4pDMSBRLvA"
      },
      "execution_count": null,
      "outputs": []
    }
  ]
}