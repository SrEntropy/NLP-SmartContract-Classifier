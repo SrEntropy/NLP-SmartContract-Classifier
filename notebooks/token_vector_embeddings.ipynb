{
  "nbformat": 4,
  "nbformat_minor": 0,
  "metadata": {
    "colab": {
      "provenance": []
    },
    "kernelspec": {
      "name": "python3",
      "display_name": "Python 3"
    },
    "language_info": {
      "name": "python"
    }
  },
  "cells": [
    {
      "cell_type": "markdown",
      "source": [
        "##Hugging Face Transformers for AutoTokenizer and CodeBERT"
      ],
      "metadata": {
        "id": "T1RMn66zIQ6w"
      }
    },
    {
      "cell_type": "code",
      "source": [
        "!pip install transformers"
      ],
      "metadata": {
        "colab": {
          "base_uri": "https://localhost:8080/"
        },
        "id": "7bTS2M8BIOMx",
        "outputId": "117ea438-617b-45a0-c2ae-e4075e148f54"
      },
      "execution_count": 8,
      "outputs": [
        {
          "output_type": "stream",
          "name": "stdout",
          "text": [
            "Requirement already satisfied: transformers in /usr/local/lib/python3.12/dist-packages (4.56.0)\n",
            "Requirement already satisfied: filelock in /usr/local/lib/python3.12/dist-packages (from transformers) (3.19.1)\n",
            "Requirement already satisfied: huggingface-hub<1.0,>=0.34.0 in /usr/local/lib/python3.12/dist-packages (from transformers) (0.34.4)\n",
            "Requirement already satisfied: numpy>=1.17 in /usr/local/lib/python3.12/dist-packages (from transformers) (2.0.2)\n",
            "Requirement already satisfied: packaging>=20.0 in /usr/local/lib/python3.12/dist-packages (from transformers) (25.0)\n",
            "Requirement already satisfied: pyyaml>=5.1 in /usr/local/lib/python3.12/dist-packages (from transformers) (6.0.2)\n",
            "Requirement already satisfied: regex!=2019.12.17 in /usr/local/lib/python3.12/dist-packages (from transformers) (2024.11.6)\n",
            "Requirement already satisfied: requests in /usr/local/lib/python3.12/dist-packages (from transformers) (2.32.4)\n",
            "Requirement already satisfied: tokenizers<=0.23.0,>=0.22.0 in /usr/local/lib/python3.12/dist-packages (from transformers) (0.22.0)\n",
            "Requirement already satisfied: safetensors>=0.4.3 in /usr/local/lib/python3.12/dist-packages (from transformers) (0.6.2)\n",
            "Requirement already satisfied: tqdm>=4.27 in /usr/local/lib/python3.12/dist-packages (from transformers) (4.67.1)\n",
            "Requirement already satisfied: fsspec>=2023.5.0 in /usr/local/lib/python3.12/dist-packages (from huggingface-hub<1.0,>=0.34.0->transformers) (2025.3.0)\n",
            "Requirement already satisfied: typing-extensions>=3.7.4.3 in /usr/local/lib/python3.12/dist-packages (from huggingface-hub<1.0,>=0.34.0->transformers) (4.15.0)\n",
            "Requirement already satisfied: hf-xet<2.0.0,>=1.1.3 in /usr/local/lib/python3.12/dist-packages (from huggingface-hub<1.0,>=0.34.0->transformers) (1.1.9)\n",
            "Requirement already satisfied: charset_normalizer<4,>=2 in /usr/local/lib/python3.12/dist-packages (from requests->transformers) (3.4.3)\n",
            "Requirement already satisfied: idna<4,>=2.5 in /usr/local/lib/python3.12/dist-packages (from requests->transformers) (3.10)\n",
            "Requirement already satisfied: urllib3<3,>=1.21.1 in /usr/local/lib/python3.12/dist-packages (from requests->transformers) (2.5.0)\n",
            "Requirement already satisfied: certifi>=2017.4.17 in /usr/local/lib/python3.12/dist-packages (from requests->transformers) (2025.8.3)\n"
          ]
        }
      ]
    },
    {
      "cell_type": "markdown",
      "source": [
        "##Tree-sitter for Syntax-aware Tokenization"
      ],
      "metadata": {
        "id": "qChuUyWlIiG3"
      }
    },
    {
      "cell_type": "code",
      "source": [
        "!pip install tree-sitter-language-pack"
      ],
      "metadata": {
        "colab": {
          "base_uri": "https://localhost:8080/"
        },
        "id": "OYW8WSY4CmwP",
        "outputId": "ee41e02b-1b57-4e08-dc4a-0b4bcb09a9f8"
      },
      "execution_count": 9,
      "outputs": [
        {
          "output_type": "stream",
          "name": "stdout",
          "text": [
            "Requirement already satisfied: tree-sitter-language-pack in /usr/local/lib/python3.12/dist-packages (0.9.0)\n",
            "Requirement already satisfied: tree-sitter>=0.23.2 in /usr/local/lib/python3.12/dist-packages (from tree-sitter-language-pack) (0.25.1)\n",
            "Requirement already satisfied: tree-sitter-c-sharp>=0.23.1 in /usr/local/lib/python3.12/dist-packages (from tree-sitter-language-pack) (0.23.1)\n",
            "Requirement already satisfied: tree-sitter-embedded-template>=0.23.2 in /usr/local/lib/python3.12/dist-packages (from tree-sitter-language-pack) (0.25.0)\n",
            "Requirement already satisfied: tree-sitter-yaml>=0.7.0 in /usr/local/lib/python3.12/dist-packages (from tree-sitter-language-pack) (0.7.1)\n"
          ]
        }
      ]
    },
    {
      "cell_type": "markdown",
      "source": [
        "##Build solidity parser"
      ],
      "metadata": {
        "id": "VdUFd6RjIzkp"
      }
    },
    {
      "cell_type": "code",
      "source": [
        "from tree_sitter_language_pack import get_language, get_parser\n",
        "\n",
        "solidity_lang = get_language(\"solidity\")\n",
        "parser = get_parser(\"solidity\")\n"
      ],
      "metadata": {
        "id": "43hOqq-bCx_d"
      },
      "execution_count": 10,
      "outputs": []
    },
    {
      "cell_type": "markdown",
      "source": [
        "##Parsing Solidity code into tokens"
      ],
      "metadata": {
        "id": "3NWKqc0eUq_W"
      }
    },
    {
      "cell_type": "code",
      "source": [
        "import os\n",
        "\n",
        "def parsing_code(path_to_files):\n",
        "  dir_path = os.path.dirname(path_to_files)\n",
        "  for file_name in os.listdir(dir_path):\n",
        "      file_path = os.path.join(dir_path, file_name)\n",
        "      if os.path.isfile(file_path):\n",
        "          with open(file_path, 'r', encoding='utf-8') as f:\n",
        "              code = f.read()\n",
        "              code_bytes = bytes(code, 'utf-8')\n",
        "              tree = parser.parse(code_bytes)\n",
        "              print(tree)"
      ],
      "metadata": {
        "id": "2B7AnkIQSUIg"
      },
      "execution_count": 20,
      "outputs": []
    },
    {
      "cell_type": "code",
      "source": [
        "parsing_code(\"/data/owasp2025_top_10_vul/vulnerable/\")"
      ],
      "metadata": {
        "id": "XSEFcRldUeUl"
      },
      "execution_count": null,
      "outputs": []
    },
    {
      "cell_type": "code",
      "source": [
        "code = open(\"/content/dos.sol\").read()\n",
        "code = bytes(code, 'utf-8')"
      ],
      "metadata": {
        "id": "g6BLTqZrQvbI"
      },
      "execution_count": 25,
      "outputs": []
    },
    {
      "cell_type": "code",
      "source": [
        "tree = parser.parse(code)\n",
        "print(tree)\n"
      ],
      "metadata": {
        "colab": {
          "base_uri": "https://localhost:8080/"
        },
        "id": "76S570BoCyxW",
        "outputId": "b036162b-797e-4af0-b17e-db9c79753181"
      },
      "execution_count": 26,
      "outputs": [
        {
          "output_type": "stream",
          "name": "stdout",
          "text": [
            "<tree_sitter.Tree object at 0x7cffe60589c0>\n"
          ]
        }
      ]
    },
    {
      "cell_type": "markdown",
      "source": [
        "##Extracting tokens from solidity code"
      ],
      "metadata": {
        "id": "ghj9WtQFSLez"
      }
    },
    {
      "cell_type": "code",
      "source": [
        "def extract_tokens(node, code):\n",
        "    tokens = []\n",
        "    if node.child_count == 0:\n",
        "        token_text = code[node.start_byte:node.end_byte].decode('utf-8')\n",
        "        tokens.append((node.type, token_text))\n",
        "    for child in node.children:\n",
        "        tokens.extend(extract_tokens(child, code))\n",
        "    return tokens\n",
        "\n",
        "tokens = extract_tokens(tree.root_node, code)\n",
        "for token_type, token_text in tokens:\n",
        "    print(f\"{token_type}: {token_text}\")"
      ],
      "metadata": {
        "colab": {
          "base_uri": "https://localhost:8080/"
        },
        "id": "t_Pj-1X8C1or",
        "outputId": "75d75886-8dbf-47a7-d389-bbd9a31b623b"
      },
      "execution_count": 27,
      "outputs": [
        {
          "output_type": "stream",
          "name": "stdout",
          "text": [
            "pragma: pragma\n",
            "solidity: solidity\n",
            "^:  ^\n",
            "solidity_version: 0.8.24\n",
            ";: ;\n",
            "contract: contract\n",
            "identifier: Solidity_DOS\n",
            "{: {\n",
            "address: address\n",
            "public: public\n",
            "identifier: king\n",
            ";: ;\n",
            "uint256: uint256\n",
            "public: public\n",
            "identifier: balance\n",
            ";: ;\n",
            "function: function\n",
            "identifier: claimThrone\n",
            "(: (\n",
            "): )\n",
            "external: external\n",
            "payable: payable\n",
            "{: {\n",
            "identifier: require\n",
            "(: (\n",
            "identifier: msg\n",
            ".: .\n",
            "identifier: value\n",
            ">: >\n",
            "identifier: balance\n",
            ",: ,\n",
            "\": \"\n",
            "\": \"\n",
            "): )\n",
            ";: ;\n",
            "(: (\n",
            "bool: bool\n",
            "identifier: sent\n",
            ",: ,\n",
            "): )\n",
            "=: =\n",
            "identifier: king\n",
            ".: .\n",
            "identifier: call\n",
            "{: {\n",
            "identifier: value\n",
            ":: :\n",
            "identifier: balance\n",
            "}: }\n",
            "(: (\n",
            "\": \"\n",
            "\": \"\n",
            "): )\n",
            ";: ;\n",
            "identifier: require\n",
            "(: (\n",
            "identifier: sent\n",
            ",: ,\n",
            "\": \"\n",
            "\": \"\n",
            "): )\n",
            ";: ;\n",
            "identifier: balance\n",
            "=: =\n",
            "identifier: msg\n",
            ".: .\n",
            "identifier: value\n",
            ";: ;\n",
            "identifier: king\n",
            "=: =\n",
            "identifier: msg\n",
            ".: .\n",
            "identifier: sender\n",
            ";: ;\n",
            "}: }\n",
            "}: }\n"
          ]
        }
      ]
    },
    {
      "cell_type": "code",
      "source": [],
      "metadata": {
        "id": "q-n28JBGVRJW"
      },
      "execution_count": null,
      "outputs": []
    }
  ]
}