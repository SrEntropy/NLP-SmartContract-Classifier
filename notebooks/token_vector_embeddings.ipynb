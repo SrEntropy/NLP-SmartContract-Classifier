{
  "nbformat": 4,
  "nbformat_minor": 0,
  "metadata": {
    "colab": {
      "provenance": []
    },
    "kernelspec": {
      "name": "python3",
      "display_name": "Python 3"
    },
    "language_info": {
      "name": "python"
    }
  },
  "cells": [
    {
      "cell_type": "markdown",
      "source": [
        "#Tree-sitter for Syntax-aware Tokenization"
      ],
      "metadata": {
        "id": "wRjkwZDm4bpW"
      }
    },
    {
      "cell_type": "code",
      "source": [
        "!pip uninstall -y tree_sitter\n",
        "!pip install tree_sitter==0.20.0"
      ],
      "metadata": {
        "colab": {
          "base_uri": "https://localhost:8080/"
        },
        "id": "0rIVdS5JnSR4",
        "outputId": "88e4d374-5019-4ab9-a119-37c70c607cc6"
      },
      "execution_count": 1,
      "outputs": [
        {
          "output_type": "stream",
          "name": "stdout",
          "text": [
            "Found existing installation: tree_sitter 0.20.0\n",
            "Uninstalling tree_sitter-0.20.0:\n",
            "  Successfully uninstalled tree_sitter-0.20.0\n",
            "Collecting tree_sitter==0.20.0\n",
            "  Using cached tree_sitter-0.20.0-cp312-cp312-linux_x86_64.whl\n",
            "Installing collected packages: tree_sitter\n",
            "Successfully installed tree_sitter-0.20.0\n"
          ]
        }
      ]
    },
    {
      "cell_type": "code",
      "source": [
        "!git clone https://github.com/JoranHonig/tree-sitter-solidity.git"
      ],
      "metadata": {
        "colab": {
          "base_uri": "https://localhost:8080/"
        },
        "id": "Zz9zAM2ina0O",
        "outputId": "8e980895-5029-4038-fd56-81e5ef3c6f83"
      },
      "execution_count": 9,
      "outputs": [
        {
          "output_type": "stream",
          "name": "stdout",
          "text": [
            "fatal: destination path 'tree-sitter-solidity' already exists and is not an empty directory.\n"
          ]
        }
      ]
    },
    {
      "cell_type": "markdown",
      "source": [],
      "metadata": {
        "id": "eJu0bbkj4aQA"
      }
    },
    {
      "cell_type": "markdown",
      "source": [
        "#Hugging Face Transformers for AutoTokenizer adn CodeBERT"
      ],
      "metadata": {
        "id": "9biZI5YD4D9Q"
      }
    },
    {
      "cell_type": "code",
      "source": [
        "!pip install transformers"
      ],
      "metadata": {
        "colab": {
          "base_uri": "https://localhost:8080/"
        },
        "id": "nBjr0y9m39di",
        "outputId": "565cfdfa-14cb-48e6-9cb6-168f1fdcb133"
      },
      "execution_count": 4,
      "outputs": [
        {
          "output_type": "stream",
          "name": "stdout",
          "text": [
            "Requirement already satisfied: transformers in /usr/local/lib/python3.12/dist-packages (4.55.4)\n",
            "Requirement already satisfied: filelock in /usr/local/lib/python3.12/dist-packages (from transformers) (3.19.1)\n",
            "Requirement already satisfied: huggingface-hub<1.0,>=0.34.0 in /usr/local/lib/python3.12/dist-packages (from transformers) (0.34.4)\n",
            "Requirement already satisfied: numpy>=1.17 in /usr/local/lib/python3.12/dist-packages (from transformers) (2.0.2)\n",
            "Requirement already satisfied: packaging>=20.0 in /usr/local/lib/python3.12/dist-packages (from transformers) (25.0)\n",
            "Requirement already satisfied: pyyaml>=5.1 in /usr/local/lib/python3.12/dist-packages (from transformers) (6.0.2)\n",
            "Requirement already satisfied: regex!=2019.12.17 in /usr/local/lib/python3.12/dist-packages (from transformers) (2024.11.6)\n",
            "Requirement already satisfied: requests in /usr/local/lib/python3.12/dist-packages (from transformers) (2.32.4)\n",
            "Requirement already satisfied: tokenizers<0.22,>=0.21 in /usr/local/lib/python3.12/dist-packages (from transformers) (0.21.4)\n",
            "Requirement already satisfied: safetensors>=0.4.3 in /usr/local/lib/python3.12/dist-packages (from transformers) (0.6.2)\n",
            "Requirement already satisfied: tqdm>=4.27 in /usr/local/lib/python3.12/dist-packages (from transformers) (4.67.1)\n",
            "Requirement already satisfied: fsspec>=2023.5.0 in /usr/local/lib/python3.12/dist-packages (from huggingface-hub<1.0,>=0.34.0->transformers) (2025.3.0)\n",
            "Requirement already satisfied: typing-extensions>=3.7.4.3 in /usr/local/lib/python3.12/dist-packages (from huggingface-hub<1.0,>=0.34.0->transformers) (4.15.0)\n",
            "Requirement already satisfied: hf-xet<2.0.0,>=1.1.3 in /usr/local/lib/python3.12/dist-packages (from huggingface-hub<1.0,>=0.34.0->transformers) (1.1.8)\n",
            "Requirement already satisfied: charset_normalizer<4,>=2 in /usr/local/lib/python3.12/dist-packages (from requests->transformers) (3.4.3)\n",
            "Requirement already satisfied: idna<4,>=2.5 in /usr/local/lib/python3.12/dist-packages (from requests->transformers) (3.10)\n",
            "Requirement already satisfied: urllib3<3,>=1.21.1 in /usr/local/lib/python3.12/dist-packages (from requests->transformers) (2.5.0)\n",
            "Requirement already satisfied: certifi>=2017.4.17 in /usr/local/lib/python3.12/dist-packages (from requests->transformers) (2025.8.3)\n"
          ]
        }
      ]
    },
    {
      "cell_type": "markdown",
      "source": [
        "#Tokenizing Solidity Code"
      ],
      "metadata": {
        "id": "R_mb25WT48oR"
      }
    },
    {
      "cell_type": "markdown",
      "source": [
        "##Build Solidity Parser:only done once"
      ],
      "metadata": {
        "id": "PXSCG_uz5ND3"
      }
    },
    {
      "cell_type": "code",
      "source": [
        "from tree_sitter import Language\n",
        "\n",
        "Language.build_library(\n",
        "  'build/my-languages.so',\n",
        "  ['tree-sitter-solidity']\n",
        ")"
      ],
      "metadata": {
        "colab": {
          "base_uri": "https://localhost:8080/"
        },
        "id": "riw8i7UInGNK",
        "outputId": "b3d2d20f-b164-4a26-fe30-bab8a8033dd2"
      },
      "execution_count": 11,
      "outputs": [
        {
          "output_type": "execute_result",
          "data": {
            "text/plain": [
              "False"
            ]
          },
          "metadata": {},
          "execution_count": 11
        }
      ]
    },
    {
      "cell_type": "code",
      "source": [
        "from tree_sitter import Parser, Language\n",
        "\n",
        "SOLIDITY = Language('build/my-languages.so', 'solidity')\n",
        "parser = Parser()\n",
        "parser.set_language(SOLIDITY)"
      ],
      "metadata": {
        "id": "d0rxuUGqqT86"
      },
      "execution_count": 13,
      "outputs": []
    },
    {
      "cell_type": "code",
      "source": [
        "code_vuln1 = b\"\"\"\n",
        "// SPDX-License-Identifier: MIT\n",
        "pragma solidity ^0.6.0;\n",
        "\n",
        "contract Token {\n",
        "    mapping(address => uint256) balances;\n",
        "    uint256 public totalSupply;\n",
        "\n",
        "    constructor(uint256 _initialSupply) public {\n",
        "        balances[msg.sender] = totalSupply = _initialSupply;\n",
        "    }\n",
        "\n",
        "    function transfer(address _to, uint256 _value) public returns (bool) {\n",
        "        require(balances[msg.sender] - _value >= 0);\n",
        "        balances[msg.sender] -= _value;\n",
        "        balances[_to] += _value;\n",
        "        return true;\n",
        "    }\n",
        "\n",
        "    function balanceOf(address _owner) public view returns (uint256 balance) {\n",
        "        return balances[_owner];\n",
        "    }\n",
        "}\n",
        "\"\"\""
      ],
      "metadata": {
        "id": "5ql5bdaGwauG"
      },
      "execution_count": null,
      "outputs": []
    },
    {
      "cell_type": "code",
      "source": [
        "code_sec1 = b\"\"\"\n",
        "// SPDX-License-Identifier: MIT\n",
        "pragma solidity ^0.6.0;\n",
        "\n",
        "contract Token {\n",
        "    mapping(address => uint256) balances;\n",
        "    uint256 public totalSupply;\n",
        "\n",
        "    constructor(uint256 _initialSupply) public {\n",
        "        balances[msg.sender] = totalSupply = _initialSupply;\n",
        "    }\n",
        "\n",
        "    function transfer(address _to, uint256 _value) public returns (bool) {\n",
        "        require(balances[msg.sender] - _value >= 0);\n",
        "        balances[msg.sender] -= _value;\n",
        "        balances[_to] += _value;\n",
        "        return true;\n",
        "    }\n",
        "\n",
        "    function balanceOf(address _owner) public view returns (uint256 balance) {\n",
        "        return balances[_owner];\n",
        "    }\n",
        "}\n",
        "\"\"\""
      ],
      "metadata": {
        "id": "9RHAlH_CwiIa"
      },
      "execution_count": null,
      "outputs": []
    },
    {
      "cell_type": "code",
      "source": [
        "\n",
        "tree = parser.parse(code_vuln1)\n",
        "\n",
        "def extract_tokens(node, code):\n",
        "    tokens = []\n",
        "    if node.child_count == 0:\n",
        "        token_text = code[node.start_byte:node.end_byte].decode('utf-8')\n",
        "        tokens.append((node.type, token_text))\n",
        "    for child in node.children:\n",
        "        tokens.extend(extract_tokens(child, code))\n",
        "    return tokens\n",
        "\n",
        "tokens = extract_tokens(tree.root_node, code_vuln1)\n",
        "for token_type, token_text in tokens:\n",
        "    print(f\"{token_type}: {token_text}\")"
      ],
      "metadata": {
        "colab": {
          "base_uri": "https://localhost:8080/"
        },
        "id": "kbD_k-GKqUbY",
        "outputId": "c00709e9-38b4-459e-8dfb-4683842e7770"
      },
      "execution_count": 14,
      "outputs": [
        {
          "output_type": "stream",
          "name": "stdout",
          "text": [
            "comment: // SPDX-License-Identifier: MIT\n",
            "pragma: pragma\n",
            "solidity: solidity\n",
            "^:  ^\n",
            "solidity_version: 0.6.0\n",
            "contract: contract\n",
            "identifier: Token\n",
            "{: {\n",
            "mapping: mapping\n",
            "(: (\n",
            "address: address\n",
            "=>: =>\n",
            "uint256: uint256\n",
            "): )\n",
            "identifier: balances\n",
            "uint256: uint256\n",
            "public: public\n",
            "identifier: totalSupply\n",
            "constructor: constructor\n",
            "(: (\n",
            "uint256: uint256\n",
            "identifier: _initialSupply\n",
            "): )\n",
            "public: public\n",
            "{: {\n",
            "identifier: balances\n",
            "[: [\n",
            "identifier: msg\n",
            ".: .\n",
            "identifier: sender\n",
            "]: ]\n",
            "=: =\n",
            "identifier: totalSupply\n",
            "=: =\n",
            "identifier: _initialSupply\n",
            "}: }\n",
            "function: function\n",
            "identifier: transfer\n",
            "(: (\n",
            "address: address\n",
            "identifier: _to\n",
            ",: ,\n",
            "uint256: uint256\n",
            "identifier: _value\n",
            "): )\n",
            "public: public\n",
            "returns: returns\n",
            "(: (\n",
            "bool: bool\n",
            "): )\n",
            "{: {\n",
            "identifier: require\n",
            "(: (\n",
            "identifier: balances\n",
            "[: [\n",
            "identifier: msg\n",
            ".: .\n",
            "identifier: sender\n",
            "]: ]\n",
            "-: -\n",
            "identifier: _value\n",
            ">=: >=\n",
            "number_literal: 0\n",
            "): )\n",
            "identifier: balances\n",
            "[: [\n",
            "identifier: msg\n",
            ".: .\n",
            "identifier: sender\n",
            "]: ]\n",
            "-=: -=\n",
            "identifier: _value\n",
            "identifier: balances\n",
            "[: [\n",
            "identifier: _to\n",
            "]: ]\n",
            "+=: +=\n",
            "identifier: _value\n",
            "return: return\n",
            "true: true\n",
            "}: }\n",
            "function: function\n",
            "identifier: balanceOf\n",
            "(: (\n",
            "address: address\n",
            "identifier: _owner\n",
            "): )\n",
            "public: public\n",
            "view: view\n",
            "returns: returns\n",
            "(: (\n",
            "uint256: uint256\n",
            "identifier: balance\n",
            "): )\n",
            "{: {\n",
            "return: return\n",
            "identifier: balances\n",
            "[: [\n",
            "identifier: _owner\n",
            "]: ]\n",
            "}: }\n",
            "}: }\n"
          ]
        }
      ]
    },
    {
      "cell_type": "code",
      "source": [],
      "metadata": {
        "id": "kJwj-9XPysB-"
      },
      "execution_count": null,
      "outputs": []
    }
  ]
}